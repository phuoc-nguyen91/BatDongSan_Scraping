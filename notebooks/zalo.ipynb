{
 "cells": [
  {
   "cell_type": "code",
   "execution_count": null,
   "metadata": {},
   "outputs": [],
   "source": [
    "from seleniumbase import BaseCase\n",
    "import time\n",
    "\n",
    "class ZaloGroupScraper(BaseCase):\n",
    "    def test_scrape_zalo_group_members(self):\n",
    "        # Truy cập trang Zalo Web\n",
    "        self.open(\"https://chat.zalo.me/\")\n",
    "\n",
    "        # Đợi người dùng quét mã QR và nhấn Enter\n",
    "        input(\"Quét mã QR để đăng nhập Zalo Web và nhấn Enter sau khi hoàn tất...\")\n",
    "\n",
    "        # Tìm nhóm trong danh sách trò chuyện (đổi tên nhóm trong `group_name`)\n",
    "        group_name = \"ECOXUAN A-B-C\"\n",
    "        self.wait_for_text(group_name, timeout=20)\n",
    "        self.click(f\"span:contains('{group_name}')\")\n",
    "\n",
    "        # Mở danh sách thành viên nhóm\n",
    "        self.click(\"button[title='Xem thông tin nhóm']\")\n",
    "        time.sleep(2)  # Chờ để danh sách thành viên tải\n",
    "\n",
    "        # Lấy danh sách thành viên\n",
    "        member_elements = self.find_elements(\"span.member-name\")\n",
    "        \n",
    "        # In tên các thành viên\n",
    "        for member in member_elements:\n",
    "            print(member.text)\n",
    "\n",
    "# Khởi chạy lớp kiểm thử\n",
    "if __name__ == \"__main__\":\n",
    "    ZaloGroupScraper().test_scrape_zalo_group_members()\n"
   ]
  }
 ],
 "metadata": {
  "kernelspec": {
   "display_name": ".venv",
   "language": "python",
   "name": "python3"
  },
  "language_info": {
   "name": "python",
   "version": "3.10.11"
  }
 },
 "nbformat": 4,
 "nbformat_minor": 2
}
